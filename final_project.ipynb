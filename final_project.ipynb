{
  "cells": [
    {
      "cell_type": "code",
      "execution_count": 1,
      "metadata": {
        "colab": {
          "base_uri": "https://localhost:8080/",
          "height": 599
        },
        "id": "mKmq1h6st-n_",
        "outputId": "08cadb4b-a454-4969-ba13-dc572ed7f62a"
      },
      "outputs": [
        {
          "metadata": {
            "tags": null
          },
          "name": "stdout",
          "output_type": "stream",
          "text": [
            "welcome back,  moha !\n",
            "1) whats is the weather ?\n",
            "2) the suggestion of clothes for weather\n",
            "3) exit \n",
            "you chose to enter weather\n",
            " information has been saved\n",
            "1) whats is the weather ?\n",
            "2) the suggestion of clothes for weather\n",
            "3) exit \n",
            " T-shirt is fine\n",
            " you should bring a umbrella with you\n",
            "1) whats is the weather ?\n",
            "2) the suggestion of clothes for weather\n",
            "3) exit \n"
          ]
        },
        {
          "output_type": "error",
          "ename": "KeyboardInterrupt",
          "evalue": "Interrupted by user",
          "traceback": [
            "\u001b[0;31m---------------------------------------------------------------------------\u001b[0m",
            "\u001b[0;31mKeyboardInterrupt\u001b[0m                         Traceback (most recent call last)",
            "\u001b[0;32m<ipython-input-1-6ebee2394248>\u001b[0m in \u001b[0;36m<cell line: 0>\u001b[0;34m()\u001b[0m\n\u001b[1;32m     30\u001b[0m     \u001b[0mprint\u001b[0m\u001b[0;34m(\u001b[0m\u001b[0;34m\"2) the suggestion of clothes for weather\"\u001b[0m\u001b[0;34m)\u001b[0m\u001b[0;34m\u001b[0m\u001b[0;34m\u001b[0m\u001b[0m\n\u001b[1;32m     31\u001b[0m     \u001b[0mprint\u001b[0m\u001b[0;34m(\u001b[0m\u001b[0;34m\"3) exit \"\u001b[0m\u001b[0;34m)\u001b[0m\u001b[0;34m\u001b[0m\u001b[0;34m\u001b[0m\u001b[0m\n\u001b[0;32m---> 32\u001b[0;31m     \u001b[0mchoice\u001b[0m \u001b[0;34m=\u001b[0m \u001b[0minput\u001b[0m\u001b[0;34m(\u001b[0m\u001b[0;34m\"choose the number from 1 to 3\"\u001b[0m\u001b[0;34m)\u001b[0m \u001b[0;31m# Get the user's menu choice (1 for weather, 2 for suggestion, 3 to exit)\u001b[0m\u001b[0;34m\u001b[0m\u001b[0;34m\u001b[0m\u001b[0m\n\u001b[0m\u001b[1;32m     33\u001b[0m     \u001b[0;32mif\u001b[0m \u001b[0mchoice\u001b[0m \u001b[0;34m==\u001b[0m \u001b[0;34m\"1\"\u001b[0m\u001b[0;34m:\u001b[0m\u001b[0;34m\u001b[0m\u001b[0;34m\u001b[0m\u001b[0m\n\u001b[1;32m     34\u001b[0m         \u001b[0mprint\u001b[0m\u001b[0;34m(\u001b[0m\u001b[0;34m\"you chose to enter weather\"\u001b[0m\u001b[0;34m)\u001b[0m\u001b[0;34m\u001b[0m\u001b[0;34m\u001b[0m\u001b[0m\n",
            "\u001b[0;32m/usr/local/lib/python3.11/dist-packages/ipykernel/kernelbase.py\u001b[0m in \u001b[0;36mraw_input\u001b[0;34m(self, prompt)\u001b[0m\n\u001b[1;32m   1175\u001b[0m                 \u001b[0;34m\"raw_input was called, but this frontend does not support input requests.\"\u001b[0m\u001b[0;34m\u001b[0m\u001b[0;34m\u001b[0m\u001b[0m\n\u001b[1;32m   1176\u001b[0m             )\n\u001b[0;32m-> 1177\u001b[0;31m         return self._input_request(\n\u001b[0m\u001b[1;32m   1178\u001b[0m             \u001b[0mstr\u001b[0m\u001b[0;34m(\u001b[0m\u001b[0mprompt\u001b[0m\u001b[0;34m)\u001b[0m\u001b[0;34m,\u001b[0m\u001b[0;34m\u001b[0m\u001b[0;34m\u001b[0m\u001b[0m\n\u001b[1;32m   1179\u001b[0m             \u001b[0mself\u001b[0m\u001b[0;34m.\u001b[0m\u001b[0m_parent_ident\u001b[0m\u001b[0;34m[\u001b[0m\u001b[0;34m\"shell\"\u001b[0m\u001b[0;34m]\u001b[0m\u001b[0;34m,\u001b[0m\u001b[0;34m\u001b[0m\u001b[0;34m\u001b[0m\u001b[0m\n",
            "\u001b[0;32m/usr/local/lib/python3.11/dist-packages/ipykernel/kernelbase.py\u001b[0m in \u001b[0;36m_input_request\u001b[0;34m(self, prompt, ident, parent, password)\u001b[0m\n\u001b[1;32m   1217\u001b[0m             \u001b[0;32mexcept\u001b[0m \u001b[0mKeyboardInterrupt\u001b[0m\u001b[0;34m:\u001b[0m\u001b[0;34m\u001b[0m\u001b[0;34m\u001b[0m\u001b[0m\n\u001b[1;32m   1218\u001b[0m                 \u001b[0;31m# re-raise KeyboardInterrupt, to truncate traceback\u001b[0m\u001b[0;34m\u001b[0m\u001b[0;34m\u001b[0m\u001b[0m\n\u001b[0;32m-> 1219\u001b[0;31m                 \u001b[0;32mraise\u001b[0m \u001b[0mKeyboardInterrupt\u001b[0m\u001b[0;34m(\u001b[0m\u001b[0;34m\"Interrupted by user\"\u001b[0m\u001b[0;34m)\u001b[0m \u001b[0;32mfrom\u001b[0m \u001b[0;32mNone\u001b[0m\u001b[0;34m\u001b[0m\u001b[0;34m\u001b[0m\u001b[0m\n\u001b[0m\u001b[1;32m   1220\u001b[0m             \u001b[0;32mexcept\u001b[0m \u001b[0mException\u001b[0m\u001b[0;34m:\u001b[0m\u001b[0;34m\u001b[0m\u001b[0;34m\u001b[0m\u001b[0m\n\u001b[1;32m   1221\u001b[0m                 \u001b[0mself\u001b[0m\u001b[0;34m.\u001b[0m\u001b[0mlog\u001b[0m\u001b[0;34m.\u001b[0m\u001b[0mwarning\u001b[0m\u001b[0;34m(\u001b[0m\u001b[0;34m\"Invalid Message:\"\u001b[0m\u001b[0;34m,\u001b[0m \u001b[0mexc_info\u001b[0m\u001b[0;34m=\u001b[0m\u001b[0;32mTrue\u001b[0m\u001b[0;34m)\u001b[0m\u001b[0;34m\u001b[0m\u001b[0;34m\u001b[0m\u001b[0m\n",
            "\u001b[0;31mKeyboardInterrupt\u001b[0m: Interrupted by user"
          ]
        }
      ],
      "source": [
        "# this is set up for the login information\n",
        "username = \"moha\"\n",
        "password = \"1234\"\n",
        "attemps = 0 #here the number of attemps which is set to zero since the user did not login yet.\n",
        "\n",
        "# These (temp, rain and wind) are empty starting values because the user has not entered the weather information yet, once they enter it will save here\n",
        "temp = None\n",
        "rain = None\n",
        "wind = None\n",
        "\n",
        "while attemps < 3: # while here is used a keep doing this while attemps is still under 3 which is true. once the attemps reach 3 it becomes false, the loop stops.\n",
        "\n",
        "  # Ask the user to type their username and password, the information that going to tb entered is going to be saved as user and pswo so we can use it in the coding part\n",
        "    user = input(\"enter username: \")\n",
        "    pswo = input(\"enter password: \")\n",
        "\n",
        "    if user == username and pswo == password: #if is used when condition is true which in this case if the username and password matches, so it will runs the code\n",
        "        print(\"welcome back, \", username, \"!\") #it will print a text welcome back with the username\n",
        "        break#stops a loop when the if is true.\n",
        "\n",
        "    else: #else is used when the condifion in if is not true.\n",
        "        print(\"username or password are invalid \")\n",
        "        attemps += 1 # Add 1 to the number of attemps\n",
        "if attemps == 3: #If the user tried 3 times and still failed, a message will be shown and stop the program\n",
        "    print(\"you tried enough \")\n",
        "else: # else is used here so the menu only shows if the user didn't fail 3 login attempts, without this, the menu would run even if the login was incorrect\n",
        "  while True:# Keep showing the menu over and over until the user chooses to exit\n",
        "  #the usee will be givin 3 options in the menu\n",
        "    print(\"1) whats is the weather ?\")\n",
        "    print(\"2) the suggestion of clothes for weather\")\n",
        "    print(\"3) exit \")\n",
        "    choice = input(\"choose the number from 1 to 3\") # Get the user's menu choice (1 for weather, 2 for suggestion, 3 to exit)\n",
        "    if choice == \"1\":\n",
        "        print(\"you chose to enter weather\")\n",
        "        temp = float(input(\"Enter the temperature in Celsius: \")) #a float is being used to Get the temperature from the user and convert it from text to decimal number\n",
        "        rain = input(\"Is it raining? (yes or no): \").lower() #  .lower() always turn string into small letters so if the user enterd YES it will turn into yes\n",
        "        wind = input(\"Is it windy? (yes or no): \").lower()\n",
        "        print(\" information has been saved\")\n",
        "\n",
        "    elif choice == \"2\":\n",
        "        if temp is None: #if the user did not entened any information in temparture section, the temp will still be empty or none since there is no information saved in ti\n",
        "        #it will retrun back to the menu and will not work until the user go and fill the weather information\n",
        "            print(\"You need to enter the weather first.\")\n",
        "        else:\n",
        "            if temp < 10: #based on the user information,  if it's less than 10 it suggest a warm coat\n",
        "                print(\"Wear a warm coat\")\n",
        "            elif temp <= 20: #elif is used to check another condition if the first one was false, in this case is used when temp is between 10 and 20\n",
        "                print(\" wear a jacket or hoodie\")\n",
        "            else:\n",
        "                print(\" T-shirt is fine\")\n",
        "\n",
        "            if rain == \"yes\":\n",
        "                print(\" you should bring a umbrella with you\")\n",
        "            if wind == \"yes\":\n",
        "                print(\"Bring a windbreaker\")\n",
        "\n",
        "    elif choice == \"3\": # If the user chooses 3, say goodbye and use break to stop the menu loop\n",
        "        print(\"bye bye! \")\n",
        "        break\n",
        "    else:# else is used when the input is not 1, 2, or 3 — so we show an error message\n",
        "        print(\"invalid number, please enter between number 1 to 3\")\n",
        "\n",
        "\n",
        "\n",
        "\n",
        "\n"
      ]
    }
  ],
  "metadata": {
    "colab": {
      "provenance": []
    },
    "kernelspec": {
      "display_name": "Python 3",
      "name": "python3"
    },
    "language_info": {
      "name": "python"
    }
  },
  "nbformat": 4,
  "nbformat_minor": 0
}