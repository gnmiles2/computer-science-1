{
  "cells": [
    {
      "cell_type": "markdown",
      "metadata": {
        "id": "i_4tMlsiyLB5"
      },
      "source": []
    },
    {
      "cell_type": "markdown",
      "metadata": {
        "id": "d3f920zmyMqT"
      },
      "source": [
        "task 1, Assigning Values to Variables"
      ]
    },
    {
      "cell_type": "code",
      "execution_count": null,
      "metadata": {
        "colab": {
          "base_uri": "https://localhost:8080/"
        },
        "id": "IKy0oWc4yNws",
        "outputId": "f164a437-f038-47b3-edd3-f3354e2e9bad"
      },
      "outputs": [
        {
          "name": "stdout",
          "output_type": "stream",
          "text": [
            "21 3.14 Python\n"
          ]
        }
      ],
      "source": [
        "# Creating variables\n",
        "my_integer = 21       # integer value ( which is number)\n",
        "my_float = 3.14       # floating-point value ( significand numbers )\n",
        "my_string = \"Python\"   # string value (latters), we put quotation marks (\" \") around words to tell the computer it’s TEXT not code\n",
        "\n",
        "# Printing all variables on one line separated by commas\n",
        "print(my_integer, my_float, my_string)"
      ]
    },
    {
      "cell_type": "markdown",
      "metadata": {
        "id": "GjfHN0VA1I_Q"
      },
      "source": [
        "task 2, Data Types"
      ]
    },
    {
      "cell_type": "code",
      "execution_count": null,
      "metadata": {
        "colab": {
          "base_uri": "https://localhost:8080/"
        },
        "id": "axD5oMOu1KGq",
        "outputId": "272caaaf-2f0d-43fe-b4ac-863b98b15f32"
      },
      "outputs": [
        {
          "name": "stdout",
          "output_type": "stream",
          "text": [
            "<class 'int'>\n",
            "<class 'float'>\n",
            "<class 'bool'>\n"
          ]
        }
      ],
      "source": [
        "# Part 1: Working with 'age'type which it will print type of the number if it integer or float\n",
        "age = 21            # Assign integer value\n",
        "print(type(age))    # Print data type of integer\n",
        "\n",
        "age = 20.5          # Change to float\n",
        "print(type(age))    # Print data type of float\n",
        "\n",
        "# Part 2: Working with 'is_student'\n",
        "is_student = True   # Assign boolean value ( true or fales)\n",
        "print(type(is_student)) # Print data type of boolean"
      ]
    },
    {
      "cell_type": "markdown",
      "metadata": {
        "id": "44UmMCW85uh7"
      },
      "source": [
        "Task 3, Basic Input and Output"
      ]
    },
    {
      "cell_type": "code",
      "execution_count": null,
      "metadata": {
        "colab": {
          "base_uri": "https://localhost:8080/"
        },
        "id": "EqkbgHfe5wpN",
        "collapsed": true,
        "outputId": "e36b1a4d-44a4-4471-ec49-d237eaf4a218"
      },
      "outputs": [
        {
          "output_type": "stream",
          "name": "stdout",
          "text": [
            "What is your name? moha'\n",
            "Hello, moha'!\n",
            "How old are you? 900\n",
            "You are eligible to vote.\n"
          ]
        }
      ],
      "source": [
        "# Program 1: Asking for user's name\n",
        "#  Ask the user to type their name using input()\n",
        "name = input(\"What is your name? \")  # input() lets user type a value, we store it in 'name'\n",
        "\n",
        "# Step 2: Print a greeting using the name\n",
        "print(\"Hello,\", name + \"!\")  # print() shows the greeting; ',' adds a space, '+' adds the name with '!'\n",
        "\n",
        "# Program 2: Checking voting eligibility\n",
        "# Step 1: Ask the user to type their age, convert it to integer\n",
        "age = int(input(\"How old are you? \"))  # input() gets text, int() converts it to a number\n",
        "\n",
        "# Step 2: Check if the age is 18 or more using if/else\n",
        "if age >= 18:\n",
        "    print(\"You are eligible to vote.\")  # if condition is True (18 or more), print this\n",
        "else:\n",
        "    print(\"You are not eligible to vote.\")  # if condition is False (under 18), print this\n",
        "\n"
      ]
    },
    {
      "cell_type": "markdown",
      "source": [
        "task 4, converting_data_types"
      ],
      "metadata": {
        "id": "JRcNCaOgR9J4"
      }
    },
    {
      "cell_type": "code",
      "source": [
        "# Program 1: Squaring an integer\n",
        "number_str = input(\"Enter a number: \")  # Ask user to input a number (as text)\n",
        "number_int = int(number_str)            # Convert string to integer using int()\n",
        "square = number_int * number_int        # Multiply number by itself (square it)\n",
        "print(\"The square is:\", square)          # Print the square result\n",
        "\n",
        "# Program 2: Multiplying a floating-point number\n",
        "float_str = \"4.56\"                       # Example string representing a float\n",
        "float_num = float(float_str)             # Convert string to float using float()\n",
        "result = float_num * 2                   # Multiply float value by 2\n",
        "print(\"The result is:\", result)          # Print the multiplication result\n",
        "\n",
        "# Program extra: inputting for float conversion\n",
        "float_num2 = float(number_str)           # Convert the original input (number_str) to float\n",
        "result2 = float_num2 * 2                 # Multiply the float value by 2\n",
        "print(\"The result is:\", result2)         # Print the result\n"
      ],
      "metadata": {
        "colab": {
          "base_uri": "https://localhost:8080/"
        },
        "id": "CK8ChrZqSDbf",
        "outputId": "72f6c316-e3a1-4616-ea79-ae905c4bdb83"
      },
      "execution_count": null,
      "outputs": [
        {
          "output_type": "stream",
          "name": "stdout",
          "text": [
            "Enter a number: 10\n",
            "The square is: 100\n",
            "The result is: 9.12\n",
            "The result is: 20.0\n"
          ]
        }
      ]
    },
    {
      "cell_type": "markdown",
      "source": [
        "task 5, Arithmetic Operators"
      ],
      "metadata": {
        "id": "OOkNGWYiXS3G"
      }
    },
    {
      "cell_type": "code",
      "source": [
        "# Addition\n",
        "addition = 45 + 67  # Add two numbers\n",
        "print(\"Addition result:\", addition)  # Display the result of addition\n",
        "\n",
        "# Subtraction\n",
        "subtraction = 156 - 89  # Subtract second number from first\n",
        "print(\"Subtraction result:\", subtraction)  # Display the result of subtraction\n",
        "\n",
        "# Multiplication\n",
        "multiplication = 12 * 7  # Multiply two numbers\n",
        "print(\"Multiplication result:\", multiplication)  # Display the result of multiplication\n",
        "\n",
        "# Division\n",
        "division = 100 / 4  # Divide the first number by the second\n",
        "print(\"Division result:\", division)  # Display the result of division\n",
        "\n",
        "# Modulus (Remainder)\n",
        "remainder = 10 % 3  # Find remainder of division\n",
        "print(\"Remainder result:\", remainder)  # Display the remainder result\n",
        "\n",
        "# Exponentiation (Power)\n",
        "power = 3 ** 4  # Raise 3 to the power of 4\n",
        "print(\"Power result:\", power)  # Display the result of exponentiation\n"
      ],
      "metadata": {
        "colab": {
          "base_uri": "https://localhost:8080/"
        },
        "id": "1VqXXQQrXS-Z",
        "outputId": "bb388451-fbd2-4af8-ffd6-47891992ac00"
      },
      "execution_count": null,
      "outputs": [
        {
          "output_type": "stream",
          "name": "stdout",
          "text": [
            "Addition result: 112\n",
            "Subtraction result: 67\n",
            "Multiplication result: 84\n",
            "Division result: 25.0\n",
            "Remainder result: 1\n",
            "Power result: 81\n"
          ]
        }
      ]
    },
    {
      "cell_type": "markdown",
      "source": [
        "Task 6, Comparison Operators"
      ],
      "metadata": {
        "id": "QKcYKwteYvEp"
      }
    },
    {
      "cell_type": "code",
      "source": [
        "# Part 1: Compare two numbers (a = 10, b = 20)\n",
        "a = 10\n",
        "b = 20\n",
        "\n",
        "print(\"a == b:\", a == b)   # Check if a is equal to b\n",
        "print(\"a != b:\", a != b)   # Check if a is not equal to b\n",
        "print(\"a < b:\", a < b)     # Check if a is less than b\n",
        "print(\"a > b:\", a > b)     # Check if a is greater than b\n",
        "print(\"a <= b:\", a <= b)   # Check if a is less than or equal to b\n",
        "print(\"a >= b:\", a >= b)   # Check if a is greater than or equal to b\n",
        "\n",
        "# Part 2: Ask user for two numbers and compare\n",
        "first_number = int(input(\"Enter the first number: \"))   # Ask user to enter first number and convert to integer\n",
        "second_number = int(input(\"Enter the second number: \")) # Ask user to enter second number and convert to integer\n",
        "\n",
        "if first_number > second_number:\n",
        "  print(\"The first number is greater than or equal to the second.\")  # If first number is greater than second\n",
        "elif first_number == second_number:\n",
        "  print(\"The first and the second number are equal\")  # If both numbers are equal\n",
        "else:\n",
        "  print(\"The first number is less than the second.\")  # If first number is less than second\n",
        "\n",
        "\n",
        "\n"
      ],
      "metadata": {
        "colab": {
          "base_uri": "https://localhost:8080/"
        },
        "id": "8v1hRSXbYvLv",
        "outputId": "f5610386-f0b9-4f31-9a5a-6bf9ae570956"
      },
      "execution_count": null,
      "outputs": [
        {
          "output_type": "stream",
          "name": "stdout",
          "text": [
            "a == b: False\n",
            "a != b: True\n",
            "a < b: True\n",
            "a > b: False\n",
            "a <= b: True\n",
            "a >= b: False\n",
            "Enter the first number: 12\n",
            "Enter the second number: 12\n",
            "The first and the second number are equal\n"
          ]
        }
      ]
    },
    {
      "cell_type": "markdown",
      "source": [
        "Task 7, Logical Operators"
      ],
      "metadata": {
        "id": "Vdqt79zydb_N"
      }
    },
    {
      "cell_type": "code",
      "source": [
        "# Part 1: Check if a number is greater than 10 and less than 20\n",
        "number = int(input(\"Enter a number: \"))  # Ask user for a number and convert it to an integer\n",
        "\n",
        "if number > 10 and number < 20:  # Check if the number is both greater than 10 AND less than 20\n",
        "    print(\"The number is greater than 10 and less than 20.\")  # If true, print this\n",
        "else:\n",
        "    print(\"The number is not between 10 and 20.\")  # If false, print this\n",
        "\n",
        "# Part 2: Check if a number is either less than 5 or greater than 50\n",
        "number2 = int(input(\"Enter another number: \"))  # Ask user for another number and convert it to an integer\n",
        "\n",
        "if number2 < 5 or number2 > 50:  # Check if the number is either less than 5 OR greater than 50\n",
        "    print(\"The number is either less than 5 or greater than 50.\")  # If true, print this\n",
        "else:\n",
        "    print(\"The number is between 5 and 50.\")  # If false, print this\n",
        "\n"
      ],
      "metadata": {
        "colab": {
          "base_uri": "https://localhost:8080/"
        },
        "id": "n1TM4Mv4dcFY",
        "outputId": "0ced11f2-f35e-4747-ccfd-19c39834adbd"
      },
      "execution_count": null,
      "outputs": [
        {
          "output_type": "stream",
          "name": "stdout",
          "text": [
            "Enter a number: 30\n",
            "The number is NOT between 10 and 20.\n",
            "Enter another number: 20\n",
            "The number is between 5 and 50.\n"
          ]
        }
      ]
    },
    {
      "cell_type": "markdown",
      "source": [
        "Task 8, Conditional Statements"
      ],
      "metadata": {
        "id": "2sc0Xt_legB_"
      }
    },
    {
      "cell_type": "code",
      "source": [
        "# Part 1: Check if the user is an adult\n",
        "age = int(input(\"Enter your age: \"))  # Ask user to enter their age and convert to integer\n",
        "\n",
        "if age >= 18:  # Check if age is 18 or older\n",
        "    print(\"You are an adult.\")  # If true, user is an adult\n",
        "else:\n",
        "    print(\"You are a minor.\")  # If false, user is a minor\n",
        "\n",
        "# Part 2: FizzBuzz program\n",
        "number = int(input(\"Enter a number: \"))  # Ask user for a number and convert to integer\n",
        "\n",
        "if number % 3 == 0 and number % 5 == 0:  # If number divisible by both 3 and 5\n",
        "    print(\"FizzBuzz\")  # Print FizzBuzz\n",
        "elif number % 3 == 0:  # If number divisible by 3 only\n",
        "    print(\"Fizz\")  # Print Fizz\n",
        "elif number % 5 == 0:  # If number divisible by 5 only\n",
        "    print(\"Buzz\")  # Print Buzz\n",
        "else:\n",
        "    print(number)  # Otherwise, print the number itself\n"
      ],
      "metadata": {
        "colab": {
          "base_uri": "https://localhost:8080/"
        },
        "id": "cTKCiZh-egOP",
        "outputId": "11c5077d-e620-4c84-a952-44951fa60144"
      },
      "execution_count": null,
      "outputs": [
        {
          "output_type": "stream",
          "name": "stdout",
          "text": [
            "Enter your age: 21\n",
            "You are an adult.\n",
            "Enter a number: 20\n",
            "Buzz\n"
          ]
        }
      ]
    },
    {
      "cell_type": "markdown",
      "source": [
        "Task 9, Loops"
      ],
      "metadata": {
        "id": "GdspQE32fXiY"
      }
    },
    {
      "cell_type": "code",
      "source": [
        "# Part 1: For loop to print numbers from 1 to 10\n",
        "for i in range(1, 11):  # Loop from 1 to 10 (inclusive)\n",
        "    print(i)  # Print the current number\n",
        "\n",
        "# Part 2: While loop to print even numbers from 2 to 20\n",
        "number = 2  # Start from 2\n",
        "while number <= 20:  # Keep looping while number is 20 or less\n",
        "    print(number)  # Print the current even number\n",
        "    number += 2  # Move to the next even number\n",
        "\n",
        "# Part 3: Print numbers from 1 to n that are divisible by 4\n",
        "n = int(input(\"Enter a number: \"))  # Ask user for the limit number\n",
        "\n",
        "for i in range(1, n + 1):  # Loop from 1 to n\n",
        "    if i % 4 == 0:  # Check if the number is divisible by 4\n",
        "        print(i)  # If true, print the number\n"
      ],
      "metadata": {
        "colab": {
          "base_uri": "https://localhost:8080/"
        },
        "id": "BG2B7w9ufX8P",
        "outputId": "4f87591f-2617-4d39-e3ad-8b1e776d20c0"
      },
      "execution_count": null,
      "outputs": [
        {
          "output_type": "stream",
          "name": "stdout",
          "text": [
            "1\n",
            "2\n",
            "3\n",
            "4\n",
            "5\n",
            "6\n",
            "7\n",
            "8\n",
            "9\n",
            "10\n",
            "2\n",
            "4\n",
            "6\n",
            "8\n",
            "10\n",
            "12\n",
            "14\n",
            "16\n",
            "18\n",
            "20\n",
            "Enter a number: 40\n",
            "4\n",
            "8\n",
            "12\n",
            "16\n",
            "20\n",
            "24\n",
            "28\n",
            "32\n",
            "36\n",
            "40\n"
          ]
        }
      ]
    }
  ],
  "metadata": {
    "colab": {
      "provenance": []
    },
    "kernelspec": {
      "display_name": "Python 3",
      "name": "python3"
    },
    "language_info": {
      "name": "python"
    }
  },
  "nbformat": 4,
  "nbformat_minor": 0
}