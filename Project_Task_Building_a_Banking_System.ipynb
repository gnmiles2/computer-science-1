{
  "nbformat": 4,
  "nbformat_minor": 0,
  "metadata": {
    "colab": {
      "provenance": []
    },
    "kernelspec": {
      "name": "python3",
      "display_name": "Python 3"
    },
    "language_info": {
      "name": "python"
    }
  },
  "cells": [
    {
      "cell_type": "markdown",
      "source": [
        "Project Task: Build a Simple Banking System"
      ],
      "metadata": {
        "id": "b9blWEvvgDGc"
      }
    },
    {
      "cell_type": "code",
      "source": [
        "# Personal Banking System\n",
        "# This code allows the user to login and manage a simple bank account (check, deposit, withdraw, exit).\n",
        "\n",
        "# this is set up for the login information\n",
        "USERNAME = \"mohamed\"\n",
        "PASSWORD = \"123456\"\n",
        "\n",
        "# Allow 3 login attempts\n",
        "attempts = 0  #here the number of attemps which is set to zero since the user did not login yet.\n",
        "logged_in = False  # Fales here means the user is not logged in yet,\n",
        "\n",
        "# Login loop: give the user up to 3 tries to log in\n",
        "while attempts < 3: # while here is used a keep doing this while attemps is still under 3 which is true.once the attemps reach 3 it becomes false, the loop stops.\n",
        "  # Ask the user to type their username and password, the information that going to tb entered is going to be saved as user and pswo so we can use it in the coding part\n",
        "    username_input = input(\"Enter username: \")\n",
        "    password_input = input(\"Enter password: \")\n",
        "\n",
        "    if username_input == USERNAME and password_input == PASSWORD:#if is used when condition is true which in this case if the username and password matches, so it will runs the code\n",
        "        print(\"Login successful!\")\n",
        "        logged_in = True  # Set user true as logged in so the funcation starts\n",
        "        break  #stops a loop when the if is true.\n",
        "    else:#else is used when the condifion in if is not true.\n",
        "        print(\"Incorrect credentials. Try again.\")\n",
        "        attempts += 1  # Increase the attempt counter\n",
        "\n",
        "# Main Menu: only available if login was successful\n",
        "if logged_in: #This checks if the user has logged in successfully.\n",
        "    balance = 0  # Starting account balance\n",
        "    print(\"welcome back \", USERNAME)\n",
        "\n",
        "    # Menu loop: runs until user chooses to exit\n",
        "    while True:# Keep showing the menu over and over until the user chooses to exit\n",
        "  #the usee will be givin 4 options in the menu\n",
        "        print(\"Main Menu:\")\n",
        "        print(\"1. Check balance\")\n",
        "        print(\"2. Deposit money\")\n",
        "        print(\"3. Withdraw money\")\n",
        "        print(\"4. Exit\")\n",
        "\n",
        "        choice = input(\"Choose an option (1-4): \")  # Ask user to select an option from one of the 4 options above so we can\n",
        "\n",
        "        if choice == \"1\":\n",
        "            print(\"Your current balance is:\", balance)  # Display balance of hoe much they got\n",
        "\n",
        "        elif choice == \"2\":\n",
        "            deposit_amount = float(input(\"Enter amount to deposit: \"))  #a float is being used to know how much to deposit from the user and convert it from text to decimal number\n",
        "                balance += deposit_amount  # what even is been saved in deposit amount funtion it will be added to balance\n",
        "                print(\"Deposit successful! New balance:\", balance) #it print fror the user the new balance of their account\n",
        "            else:\n",
        "                print(\"Invalid deposit amount. Please enter a positive number.\")\n",
        "\n",
        "        elif choice == \"3\":\n",
        "            withdraw_amount = float(input(\"Enter amount to withdraw: \"))   #a float is being used to know how much withdraw from balance from the user and convert it from text to decimal number\n",
        "            if withdraw_amount <= balance:# this code to make sure that the amount of money required to be withdraw is already in the balance\n",
        "            #so if the amount of money required to be withdraw is higher than the balance, the code will not work\n",
        "                balance -= withdraw_amount  # Subtract from balance\n",
        "                print(\"Withdrawal successful! New balance:\", balance)\n",
        "            else:#this again for the situation if the amount if money required was higher than the balance\n",
        "                print(\"Insufficient funds. Withdrawal denied.\")\n",
        "\n",
        "        elif choice == \"4\":\n",
        "            print(\"Exiting system. Goodbye!\")  # Exit message\n",
        "            break  # Stop the loop and exit the system\n",
        "\n",
        "        else:\n",
        "            print(\"Invalid option. Please choose between 1-4.\")  # Handle invalid input\n",
        "\n",
        "else:\n",
        "    print(\"Too many failed attempts. Exiting system.\")  # Message if login fails after 3 tries\n",
        "\n",
        "\n"
      ],
      "metadata": {
        "id": "n31ABnX0gOBP"
      },
      "execution_count": null,
      "outputs": []
    }
  ]
}